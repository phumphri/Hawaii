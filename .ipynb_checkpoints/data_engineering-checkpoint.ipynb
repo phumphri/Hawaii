{
 "cells": [
  {
   "cell_type": "markdown",
   "metadata": {},
   "source": [
    "# Step 1 - Data Engineering\n",
    "\n",
    "The climate data for Hawaii is provided through two CSV files. Start by using Python and Pandas to inspect the content of these files and clean the data.\n",
    "\n",
    "* Create a Jupyter Notebook file called `data_engineering.ipynb` and use this to complete all of your Data Engineering tasks.\n",
    "\n",
    "* Use Pandas to read in the measurement and station CSV files as DataFrames.\n",
    "\n",
    "* Inspect the data for NaNs and missing values. You must decide what to do with this data.\n",
    "\n",
    "* Save your cleaned CSV files with the prefix `clean_`.\n",
    "\n",
    "---"
   ]
  },
  {
   "cell_type": "code",
   "execution_count": 1,
   "metadata": {
    "collapsed": true
   },
   "outputs": [],
   "source": [
    "# Dependencies\n",
    "import pandas as pd\n",
    "from datetime import datetime"
   ]
  },
  {
   "cell_type": "code",
   "execution_count": 2,
   "metadata": {
    "collapsed": true
   },
   "outputs": [],
   "source": [
    "# Store filepath in a variable.\n",
    "hawaii_measurements_path = \"Resources/hawaii_measurements.csv\"\n",
    "hawaii_stations_path = \"Resources/hawaii_stations.csv\""
   ]
  },
  {
   "cell_type": "code",
   "execution_count": 3,
   "metadata": {},
   "outputs": [],
   "source": [
    "# Read measurements into a dataframe.\n",
    "hawaii_measurements_df = pd.read_csv(hawaii_measurements_path)"
   ]
  },
  {
   "cell_type": "code",
   "execution_count": 4,
   "metadata": {
    "collapsed": true
   },
   "outputs": [],
   "source": [
    "# Read stations into a dataframe.\n",
    "hawaii_stations_df = pd.read_csv(hawaii_stations_path)"
   ]
  },
  {
   "cell_type": "code",
   "execution_count": 5,
   "metadata": {},
   "outputs": [
    {
     "name": "stdout",
     "output_type": "stream",
     "text": [
      "Hawaii Measurements Count:  19,550\n",
      "Hawaii Stations Count:  9\n"
     ]
    }
   ],
   "source": [
    "print(\"Hawaii Measurements Count:  {:,.0f}\".format(len(hawaii_measurements_df.index)))\n",
    "print(\"Hawaii Stations Count:  {:,.0f}\".format(len(hawaii_stations_df.index)))"
   ]
  },
  {
   "cell_type": "code",
   "execution_count": 6,
   "metadata": {},
   "outputs": [
    {
     "name": "stdout",
     "output_type": "stream",
     "text": [
      "Hawaii Measurements had no null values for station identifier.\n"
     ]
    }
   ],
   "source": [
    "# Check for null values in the station attribute.\n",
    "if hawaii_measurements_df.station.isnull().values.any() == True:\n",
    "    print(\"Hawaii Measurements were removed because of null station identifier.\")\n",
    "    hawaii_measurements_df = hawaii_measurements_df.loc[hawaii_measurements_df[\"station\"].notnull()]\n",
    "else:\n",
    "    print(\"Hawaii Measurements had no null values for station identifier.\")"
   ]
  },
  {
   "cell_type": "code",
   "execution_count": 7,
   "metadata": {},
   "outputs": [
    {
     "name": "stdout",
     "output_type": "stream",
     "text": [
      "Hawaii Stations had no null values for station identifier.\n"
     ]
    }
   ],
   "source": [
    "if hawaii_stations_df.station.isnull().values.any() == True:\n",
    "    print(\"Hawaii Stations were removed because of null station identifier.\")\n",
    "    hawaii_stations_df = hawaii_stations_df.loc[hawaii_stations_df[\"station\"].notnull()]\n",
    "else:\n",
    "    print(\"Hawaii Stations had no null values for station identifier.\")"
   ]
  },
  {
   "cell_type": "code",
   "execution_count": 8,
   "metadata": {},
   "outputs": [
    {
     "name": "stdout",
     "output_type": "stream",
     "text": [
      "Unique station identifiers in both datasets are the same.\n"
     ]
    }
   ],
   "source": [
    "# Compare station identifiers, aussuring equality.\n",
    "hawaii_measurements_indentifiers = hawaii_measurements_df.station.unique()\n",
    "\n",
    "hawaii_stations_indentifiers = list(hawaii_stations_df.station)\n",
    "\n",
    "if set(hawaii_measurements_indentifiers) == set(hawaii_stations_indentifiers):\n",
    "    print(\"Unique station identifiers in both datasets are the same.\")\n"
   ]
  },
  {
   "cell_type": "code",
   "execution_count": 9,
   "metadata": {},
   "outputs": [
    {
     "name": "stdout",
     "output_type": "stream",
     "text": [
      "Hawaii Measurements had no null values for date.\n"
     ]
    }
   ],
   "source": [
    "# Remove any Hawaii Measurements rows that had a null date string.\n",
    "if hawaii_measurements_df.date.isnull().values.any() == True:\n",
    "    Print(\"Hawaii Measuremeents were removed because of null dates.\")\n",
    "    hawaii_measurements_df = hawaii_measurements_df.loc[hawaii_measurements_df[\"date\"].notnull()]\n",
    "else:\n",
    "    print(\"Hawaii Measurements had no null values for date.\")"
   ]
  },
  {
   "cell_type": "code",
   "execution_count": 10,
   "metadata": {},
   "outputs": [
    {
     "name": "stdout",
     "output_type": "stream",
     "text": [
      "Hawaii Measurements had no invalid dates.\n"
     ]
    }
   ],
   "source": [
    "# Remove any Hawaii Mesurements rows that have invalid dates.\n",
    "error_messaged_displayed = False\n",
    "\n",
    "for i in range(0, len(hawaii_measurements_df.index)):\n",
    "\n",
    "    try:\n",
    "        date_series = hawaii_measurements_df.loc[i, ['date']]\n",
    "        date = date_series.date\n",
    "        datetime_object = datetime.strptime(date, '%Y-%m-%d')\n",
    "#         hawaii_measurements_df.loc[i, ['date']] = datetime_object\n",
    "    \n",
    "    except KeyError as e:\n",
    "        pass\n",
    "    \n",
    "    except ValueError as e:\n",
    "        hawaii_measurements_df.drop(hawaii_measurements_df.index[[i]])\n",
    "        if error_message_displayed:\n",
    "            pass\n",
    "        else:\n",
    "            print(\"Hawaii Mesurements rows were removed because of invalid dates.\")\n",
    "            error_message_displayed = true\n",
    "\n",
    "if error_messaged_displayed == False:\n",
    "    print(\"Hawaii Measurements had no invalid dates.\")"
   ]
  },
  {
   "cell_type": "code",
   "execution_count": 11,
   "metadata": {},
   "outputs": [
    {
     "name": "stdout",
     "output_type": "stream",
     "text": [
      "Hawaii Measuremeents rows were removed because of null precipitation values.\n"
     ]
    }
   ],
   "source": [
    "# Remove any Hawaii Measurements rows that had a null precipitation values.\n",
    "if hawaii_measurements_df.prcp.isnull().values.any() == True:\n",
    "    print(\"Hawaii Measuremeents rows were removed because of null precipitation values.\")\n",
    "    hawaii_measurements_df = hawaii_measurements_df.loc[hawaii_measurements_df['prcp'].notnull()]\n",
    "else:\n",
    "    print(\"Hawaii Measurements had no null values for precipitation.\")"
   ]
  },
  {
   "cell_type": "code",
   "execution_count": 12,
   "metadata": {},
   "outputs": [
    {
     "name": "stdout",
     "output_type": "stream",
     "text": [
      "Hawaii Measurements had no null values for TOBS.\n"
     ]
    }
   ],
   "source": [
    "# Remove any Hawaii Measurements rows that had a null TOBS values.\n",
    "if hawaii_measurements_df.tobs.isnull().values.any() == True:\n",
    "    print(\"Hawaii Measuremeents were removed because of null TOBS values.\")\n",
    "    hawaii_measurements_df = hawaii_measurements_df.loc[hawaii_measurements_df['tobs'].notnull()]\n",
    "else:\n",
    "    print(\"Hawaii Measurements had no null values for TOBS.\")\n"
   ]
  },
  {
   "cell_type": "code",
   "execution_count": 13,
   "metadata": {},
   "outputs": [
    {
     "data": {
      "text/html": [
       "<div>\n",
       "<style>\n",
       "    .dataframe thead tr:only-child th {\n",
       "        text-align: right;\n",
       "    }\n",
       "\n",
       "    .dataframe thead th {\n",
       "        text-align: left;\n",
       "    }\n",
       "\n",
       "    .dataframe tbody tr th {\n",
       "        vertical-align: top;\n",
       "    }\n",
       "</style>\n",
       "<table border=\"1\" class=\"dataframe\">\n",
       "  <thead>\n",
       "    <tr style=\"text-align: right;\">\n",
       "      <th></th>\n",
       "      <th>station</th>\n",
       "      <th>date</th>\n",
       "      <th>prcp</th>\n",
       "      <th>tobs</th>\n",
       "    </tr>\n",
       "  </thead>\n",
       "  <tbody>\n",
       "    <tr>\n",
       "      <th>0</th>\n",
       "      <td>USC00519397</td>\n",
       "      <td>2010-01-01</td>\n",
       "      <td>0.08</td>\n",
       "      <td>65</td>\n",
       "    </tr>\n",
       "    <tr>\n",
       "      <th>1</th>\n",
       "      <td>USC00519397</td>\n",
       "      <td>2010-01-02</td>\n",
       "      <td>0.00</td>\n",
       "      <td>63</td>\n",
       "    </tr>\n",
       "    <tr>\n",
       "      <th>2</th>\n",
       "      <td>USC00519397</td>\n",
       "      <td>2010-01-03</td>\n",
       "      <td>0.00</td>\n",
       "      <td>74</td>\n",
       "    </tr>\n",
       "    <tr>\n",
       "      <th>3</th>\n",
       "      <td>USC00519397</td>\n",
       "      <td>2010-01-04</td>\n",
       "      <td>0.00</td>\n",
       "      <td>76</td>\n",
       "    </tr>\n",
       "    <tr>\n",
       "      <th>5</th>\n",
       "      <td>USC00519397</td>\n",
       "      <td>2010-01-07</td>\n",
       "      <td>0.06</td>\n",
       "      <td>70</td>\n",
       "    </tr>\n",
       "  </tbody>\n",
       "</table>\n",
       "</div>"
      ],
      "text/plain": [
       "       station        date  prcp  tobs\n",
       "0  USC00519397  2010-01-01  0.08    65\n",
       "1  USC00519397  2010-01-02  0.00    63\n",
       "2  USC00519397  2010-01-03  0.00    74\n",
       "3  USC00519397  2010-01-04  0.00    76\n",
       "5  USC00519397  2010-01-07  0.06    70"
      ]
     },
     "execution_count": 13,
     "metadata": {},
     "output_type": "execute_result"
    }
   ],
   "source": [
    "hawaii_measurements_df.head()"
   ]
  },
  {
   "cell_type": "code",
   "execution_count": 14,
   "metadata": {},
   "outputs": [
    {
     "name": "stdout",
     "output_type": "stream",
     "text": [
      "Hawaii Stations had no null values for name.\n"
     ]
    }
   ],
   "source": [
    "# Remove any Hawaii Stations rows that had a null name values.\n",
    "if hawaii_stations_df.name.isnull().values.any() == True:\n",
    "    print(\"Hawaii Stations were removed because of null name values.\")\n",
    "    hawaii_stations_df = hawaii_stations_df.loc[hawaii_stations_df['name'].notnull()]\n",
    "else:\n",
    "    print(\"Hawaii Stations had no null values for name.\")"
   ]
  },
  {
   "cell_type": "code",
   "execution_count": 15,
   "metadata": {},
   "outputs": [
    {
     "name": "stdout",
     "output_type": "stream",
     "text": [
      "Hawaii Stations had no null values for latitude.\n"
     ]
    }
   ],
   "source": [
    "# Remove any Hawaii Stations rows that had a null latitude values.\n",
    "if hawaii_stations_df.latitude.isnull().values.any() == True:\n",
    "    print(\"Hawaii Stations were removed because of null latitude values.\")\n",
    "    hawaii_stations_df = hawaii_stations_df.loc[hawaii_stations_df['latitude'].notnull()]\n",
    "else:\n",
    "    print(\"Hawaii Stations had no null values for latitude.\")"
   ]
  },
  {
   "cell_type": "code",
   "execution_count": 16,
   "metadata": {},
   "outputs": [
    {
     "name": "stdout",
     "output_type": "stream",
     "text": [
      "Hawaii Stations had no null values for longitude.\n"
     ]
    }
   ],
   "source": [
    "# Remove any Hawaii Stations rows that had a null longitude values.\n",
    "if hawaii_stations_df.longitude.isnull().values.any() == True:\n",
    "    print(\"Hawaii Stations were removed because of null longitude values.\")\n",
    "    hawaii_stations_df = hawaii_stations_df.loc[hawaii_stations_df['longitude'].notnull()]\n",
    "else:\n",
    "    print(\"Hawaii Stations had no null values for longitude.\")"
   ]
  },
  {
   "cell_type": "code",
   "execution_count": 17,
   "metadata": {},
   "outputs": [
    {
     "name": "stdout",
     "output_type": "stream",
     "text": [
      "Hawaii Stations had no null values for elevation.\n"
     ]
    }
   ],
   "source": [
    "# Remove any Hawaii Stations rows that had a null elevation values.\n",
    "if hawaii_stations_df.elevation.isnull().values.any() == True:\n",
    "    print(\"Hawaii Stations were removed because of null elevation values.\")\n",
    "    hawaii_stations_df = hawaii_stations_df.loc[hawaii_stations_df['elevation'].notnull()]\n",
    "else:\n",
    "    print(\"Hawaii Stations had no null values for elevation.\")"
   ]
  },
  {
   "cell_type": "code",
   "execution_count": 18,
   "metadata": {
    "collapsed": true
   },
   "outputs": [],
   "source": [
    "# Export Hawaii Measurements as a CSV, without the Pandas index, but with the header\n",
    "hawaii_measurements_df.to_csv(\"Resources/clean_hawaii_measurements.csv\", index=False, header=True)"
   ]
  },
  {
   "cell_type": "code",
   "execution_count": 19,
   "metadata": {
    "collapsed": true
   },
   "outputs": [],
   "source": [
    "# Export Hawaii Stations as a CSV, without the Pandas index, but with the header\n",
    "hawaii_stations_df.to_csv(\"Resources/clean_hawaii_stations.csv\", index=False, header=True)"
   ]
  },
  {
   "cell_type": "code",
   "execution_count": 20,
   "metadata": {},
   "outputs": [
    {
     "name": "stdout",
     "output_type": "stream",
     "text": [
      "Hawaii Measurements Count:  18,103\n",
      "Hawaii Stations Count:  9\n"
     ]
    }
   ],
   "source": [
    "print(\"Hawaii Measurements Count:  {:,.0f}\".format(len(hawaii_measurements_df.index)))\n",
    "print(\"Hawaii Stations Count:  {:,.0f}\".format(len(hawaii_stations_df.index)))"
   ]
  }
 ],
 "metadata": {
  "kernelspec": {
   "display_name": "Python 3",
   "language": "python",
   "name": "python3"
  },
  "language_info": {
   "codemirror_mode": {
    "name": "ipython",
    "version": 3
   },
   "file_extension": ".py",
   "mimetype": "text/x-python",
   "name": "python",
   "nbconvert_exporter": "python",
   "pygments_lexer": "ipython3",
   "version": "3.6.3"
  }
 },
 "nbformat": 4,
 "nbformat_minor": 2
}
