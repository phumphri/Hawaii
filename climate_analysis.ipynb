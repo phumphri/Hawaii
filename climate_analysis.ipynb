{
 "cells": [
  {
   "cell_type": "markdown",
   "metadata": {},
   "source": [
    "## Climate Analysis and Exploration\n",
    "### Class:  USC Viterbi Data Analytics Bootcamp\n",
    "### Student:  Patrick Humphries\n",
    "### Date:  20 April 2018\n",
    "\n",
    "*Summary*<br/>\n",
    "Percipitation and temperature are analyzed.  The source of the data and metadata was the database hawaii.sqlite."
   ]
  },
  {
   "cell_type": "markdown",
   "metadata": {},
   "source": [
    "### Data Preparation"
   ]
  },
  {
   "cell_type": "code",
   "execution_count": 1,
   "metadata": {
    "collapsed": true
   },
   "outputs": [],
   "source": [
    "# Import Dependencies\n",
    "from datetime import datetime\n",
    "import pandas as pd\n",
    "import matplotlib.pyplot as plt\n",
    "import numpy as np"
   ]
  },
  {
   "cell_type": "code",
   "execution_count": 2,
   "metadata": {
    "collapsed": true
   },
   "outputs": [],
   "source": [
    "# Import Python SQL toolkit and Object Relational Mapper\n",
    "import sqlalchemy\n",
    "from sqlalchemy.ext.automap import automap_base\n",
    "from sqlalchemy.orm import Session\n",
    "from sqlalchemy import create_engine\n",
    "from sqlalchemy import func\n",
    "from sqlalchemy import and_"
   ]
  },
  {
   "cell_type": "code",
   "execution_count": 3,
   "metadata": {
    "collapsed": true,
    "nbgrader": {
     "grade": false,
     "grade_id": "cell-70673a582be08b2b",
     "locked": false,
     "schema_version": 1,
     "solution": true
    }
   },
   "outputs": [],
   "source": [
    "# Create engine using the `hawaii.sqlite` database file\n",
    "engine = create_engine(\"sqlite:///hawaii.sqlite\")"
   ]
  },
  {
   "cell_type": "code",
   "execution_count": 4,
   "metadata": {
    "collapsed": true,
    "nbgrader": {
     "grade": false,
     "grade_id": "cell-41aa0b6e080b0fc3",
     "locked": false,
     "schema_version": 1,
     "solution": true
    }
   },
   "outputs": [],
   "source": [
    "# Declare a Base using `automap_base()`\n",
    "Base = automap_base()"
   ]
  },
  {
   "cell_type": "code",
   "execution_count": 5,
   "metadata": {
    "collapsed": true,
    "nbgrader": {
     "grade": false,
     "grade_id": "cell-6bfc53d06684937a",
     "locked": false,
     "schema_version": 1,
     "solution": true
    }
   },
   "outputs": [],
   "source": [
    "# Use the Base class to reflect the database tables\n",
    "Base.prepare(engine, reflect=True)"
   ]
  },
  {
   "cell_type": "code",
   "execution_count": 6,
   "metadata": {
    "nbgrader": {
     "grade": false,
     "grade_id": "cell-ed6e858f1d08dd99",
     "locked": false,
     "schema_version": 1,
     "solution": true
    }
   },
   "outputs": [
    {
     "data": {
      "text/plain": [
       "['measurement', 'station']"
      ]
     },
     "execution_count": 6,
     "metadata": {},
     "output_type": "execute_result"
    }
   ],
   "source": [
    "# Print all of the classes mapped to the Base\n",
    "Base.classes.keys()"
   ]
  },
  {
   "cell_type": "code",
   "execution_count": 7,
   "metadata": {
    "collapsed": true,
    "nbgrader": {
     "grade": false,
     "grade_id": "cell-8efa4b315fdfc079",
     "locked": false,
     "schema_version": 1,
     "solution": true
    }
   },
   "outputs": [],
   "source": [
    "# Assign the Measurement class to a variable called `Measurement`\n",
    "Measurement = Base.classes.measurement"
   ]
  },
  {
   "cell_type": "code",
   "execution_count": 8,
   "metadata": {
    "collapsed": true
   },
   "outputs": [],
   "source": [
    "# Assign the Station class to a variable called `Station`\n",
    "Station = Base.classes.station"
   ]
  },
  {
   "cell_type": "code",
   "execution_count": 9,
   "metadata": {
    "collapsed": true,
    "nbgrader": {
     "grade": false,
     "grade_id": "cell-490b4263c4872970",
     "locked": false,
     "schema_version": 1,
     "solution": true
    }
   },
   "outputs": [],
   "source": [
    "# Create a session\n",
    "session = Session(engine)"
   ]
  },
  {
   "cell_type": "code",
   "execution_count": 10,
   "metadata": {
    "nbgrader": {
     "grade": false,
     "grade_id": "cell-9ec67a4806a1b9d2",
     "locked": false,
     "schema_version": 1,
     "solution": true
    }
   },
   "outputs": [
    {
     "name": "stdout",
     "output_type": "stream",
     "text": [
      "(<sqlalchemy.ext.automap.measurement object at 0x0000029235E5C390>, 'USC00519397')\n",
      "(<sqlalchemy.ext.automap.measurement object at 0x0000029235E5C400>, 'USC00519397')\n",
      "(<sqlalchemy.ext.automap.measurement object at 0x0000029235E5C470>, 'USC00519397')\n",
      "(<sqlalchemy.ext.automap.measurement object at 0x0000029235E5C4E0>, 'USC00519397')\n",
      "(<sqlalchemy.ext.automap.measurement object at 0x0000029235E5C550>, 'USC00519397')\n"
     ]
    }
   ],
   "source": [
    "# Use the session to query Measurement table and display the first 5 rows.\n",
    "for row in session.query(Measurement, Measurement.station).limit(5).all():\n",
    "    print(row)"
   ]
  },
  {
   "cell_type": "code",
   "execution_count": 11,
   "metadata": {
    "nbgrader": {
     "grade": false,
     "grade_id": "cell-48bb7af3e19c67ac",
     "locked": false,
     "schema_version": 1,
     "solution": true
    }
   },
   "outputs": [
    {
     "name": "stdout",
     "output_type": "stream",
     "text": [
      "9\n"
     ]
    }
   ],
   "source": [
    "# BONUS: Query and print the number of unique Stations\n",
    "# Hints: Look into counting and grouping operations in SQLAlchemy\n",
    "stations = session.query(Measurement).group_by(Measurement.station).count()\n",
    "print(stations)"
   ]
  },
  {
   "cell_type": "markdown",
   "metadata": {},
   "source": [
    "\n",
    "### Precipitation Analysis\n",
    "\n",
    "Percipitation for a twelve-month period is aggregated by month and plotted.\n",
    "The requirements was for plotting by day.\n",
    "However, that proved to be too granular.\n",
    "Aggregating by month yields a more meaningful view."
   ]
  },
  {
   "cell_type": "code",
   "execution_count": 12,
   "metadata": {},
   "outputs": [
    {
     "name": "stdout",
     "output_type": "stream",
     "text": [
      "2017-08-23\n"
     ]
    }
   ],
   "source": [
    "# Determine the maximum date string in Measurements. \n",
    "rs = session.query(func.max(Measurement.date))\n",
    "max_date_str = rs[0][0]\n",
    "print(max_date_str)"
   ]
  },
  {
   "cell_type": "code",
   "execution_count": 13,
   "metadata": {},
   "outputs": [
    {
     "name": "stdout",
     "output_type": "stream",
     "text": [
      "<class 'datetime.datetime'>\n"
     ]
    }
   ],
   "source": [
    "# Convert the maximum date string to a date for calculation.\n",
    "max_date = datetime.strptime(max_date_str, '%Y-%m-%d')\n",
    "print(type(max_date))"
   ]
  },
  {
   "cell_type": "code",
   "execution_count": 14,
   "metadata": {
    "collapsed": true
   },
   "outputs": [],
   "source": [
    "# Calculate the delta for the last twelve months.\n",
    "from datetime import timedelta\n",
    "one_year = timedelta(335)"
   ]
  },
  {
   "cell_type": "code",
   "execution_count": 15,
   "metadata": {
    "collapsed": true
   },
   "outputs": [],
   "source": [
    "# Calculate the date 12 months ago.\n",
    "min_date = max_date - one_year"
   ]
  },
  {
   "cell_type": "code",
   "execution_count": 16,
   "metadata": {},
   "outputs": [
    {
     "name": "stdout",
     "output_type": "stream",
     "text": [
      "2016-09-22\n"
     ]
    }
   ],
   "source": [
    "# Convert the date 12 months ago to a string for comparison.\n",
    "min_date_str = datetime.strftime(min_date, '%Y-%m-%d')\n",
    "print(min_date_str)"
   ]
  },
  {
   "cell_type": "code",
   "execution_count": 17,
   "metadata": {
    "collapsed": true
   },
   "outputs": [],
   "source": [
    "# Select the year, month, and the percipitation for the month.\n",
    "# This deviates from the requirements for legibility.\n",
    "rs = session \\\n",
    "    .query(func.substr(Measurement.date, 1, 7), func.sum(Measurement.prcp)) \\\n",
    "    .filter(and_(Measurement.date > min_date_str, Measurement.date <= max_date_str )) \\\n",
    "    .group_by(func.substr(Measurement.date, 1, 7)) \\\n",
    "    .all()"
   ]
  },
  {
   "cell_type": "code",
   "execution_count": 18,
   "metadata": {
    "collapsed": true
   },
   "outputs": [],
   "source": [
    "# Convert the result set to a list for processing.\n",
    "rs_list = list(rs)"
   ]
  },
  {
   "cell_type": "code",
   "execution_count": 19,
   "metadata": {},
   "outputs": [
    {
     "data": {
      "text/html": [
       "<div>\n",
       "<style>\n",
       "    .dataframe thead tr:only-child th {\n",
       "        text-align: right;\n",
       "    }\n",
       "\n",
       "    .dataframe thead th {\n",
       "        text-align: left;\n",
       "    }\n",
       "\n",
       "    .dataframe tbody tr th {\n",
       "        vertical-align: top;\n",
       "    }\n",
       "</style>\n",
       "<table border=\"1\" class=\"dataframe\">\n",
       "  <thead>\n",
       "    <tr style=\"text-align: right;\">\n",
       "      <th></th>\n",
       "      <th>Month</th>\n",
       "      <th>Percipitation</th>\n",
       "    </tr>\n",
       "  </thead>\n",
       "  <tbody>\n",
       "    <tr>\n",
       "      <th>0</th>\n",
       "      <td>2016-09</td>\n",
       "      <td>9.24</td>\n",
       "    </tr>\n",
       "    <tr>\n",
       "      <th>1</th>\n",
       "      <td>2016-10</td>\n",
       "      <td>21.77</td>\n",
       "    </tr>\n",
       "    <tr>\n",
       "      <th>2</th>\n",
       "      <td>2016-11</td>\n",
       "      <td>20.56</td>\n",
       "    </tr>\n",
       "    <tr>\n",
       "      <th>3</th>\n",
       "      <td>2016-12</td>\n",
       "      <td>35.51</td>\n",
       "    </tr>\n",
       "    <tr>\n",
       "      <th>4</th>\n",
       "      <td>2017-01</td>\n",
       "      <td>11.95</td>\n",
       "    </tr>\n",
       "    <tr>\n",
       "      <th>5</th>\n",
       "      <td>2017-02</td>\n",
       "      <td>39.06</td>\n",
       "    </tr>\n",
       "    <tr>\n",
       "      <th>6</th>\n",
       "      <td>2017-03</td>\n",
       "      <td>29.62</td>\n",
       "    </tr>\n",
       "    <tr>\n",
       "      <th>7</th>\n",
       "      <td>2017-04</td>\n",
       "      <td>54.91</td>\n",
       "    </tr>\n",
       "    <tr>\n",
       "      <th>8</th>\n",
       "      <td>2017-05</td>\n",
       "      <td>25.27</td>\n",
       "    </tr>\n",
       "    <tr>\n",
       "      <th>9</th>\n",
       "      <td>2017-06</td>\n",
       "      <td>20.52</td>\n",
       "    </tr>\n",
       "    <tr>\n",
       "      <th>10</th>\n",
       "      <td>2017-07</td>\n",
       "      <td>23.72</td>\n",
       "    </tr>\n",
       "    <tr>\n",
       "      <th>11</th>\n",
       "      <td>2017-08</td>\n",
       "      <td>5.18</td>\n",
       "    </tr>\n",
       "  </tbody>\n",
       "</table>\n",
       "</div>"
      ],
      "text/plain": [
       "      Month  Percipitation\n",
       "0   2016-09           9.24\n",
       "1   2016-10          21.77\n",
       "2   2016-11          20.56\n",
       "3   2016-12          35.51\n",
       "4   2017-01          11.95\n",
       "5   2017-02          39.06\n",
       "6   2017-03          29.62\n",
       "7   2017-04          54.91\n",
       "8   2017-05          25.27\n",
       "9   2017-06          20.52\n",
       "10  2017-07          23.72\n",
       "11  2017-08           5.18"
      ]
     },
     "execution_count": 19,
     "metadata": {},
     "output_type": "execute_result"
    }
   ],
   "source": [
    "# Create the dataframe of percipitation by month.\n",
    "labels = ['Month', 'Percipitation']\n",
    "df_prcp = pd.DataFrame(rs_list, columns=labels)\n",
    "df_prcp.head(12)"
   ]
  },
  {
   "cell_type": "code",
   "execution_count": 20,
   "metadata": {
    "scrolled": false
   },
   "outputs": [
    {
     "data": {
      "image/png": "[encoded data removed]",
      "text/plain": [
       "<matplotlib.figure.Figure at 0x29235b9a0f0>"
      ]
     },
     "metadata": {},
     "output_type": "display_data"
    }
   ],
   "source": [
    "# Plot percipitation by month.\n",
    "month_list = list(df_prcp.Month)\n",
    "percipitation_list = list(df_prcp.Percipitation)\n",
    "\n",
    "\n",
    "plt.figure(figsize=(20,12))\n",
    "plt.title('Monthly Percipitation for Period {} to {}'.format(min_date_str, max_date_str), fontsize=18)\n",
    "plt.tick_params(axis='x', labelsize=18)\n",
    "plt.tick_params(axis='y', labelsize=18)\n",
    "plt.legend(prop={'size': 18})\n",
    "plt.yticks(fontsize=18)\n",
    "plt.xticks(fontsize=18)\n",
    "plt.ylabel('Percipitation (inches)', fontsize=18)\n",
    "plt.xlabel('Month', fontsize=18)\n",
    "plt.grid(True)\n",
    "plt.bar(month_list, percipitation_list)\n",
    "plt.show()"
   ]
  },
  {
   "cell_type": "markdown",
   "metadata": {},
   "source": [
    "### Station Analysis\n",
    "\n",
    "For the station with the most temperature readings, plot the frequence of a temperature.\n"
   ]
  },
  {
   "cell_type": "code",
   "execution_count": 21,
   "metadata": {},
   "outputs": [
    {
     "name": "stdout",
     "output_type": "stream",
     "text": [
      "Total Number of Stations: 9\n"
     ]
    }
   ],
   "source": [
    "# Total number of stations.\n",
    "station_count = session.query(Station).count()\n",
    "print(\"Total Number of Stations:\", str(station_count))"
   ]
  },
  {
   "cell_type": "code",
   "execution_count": 22,
   "metadata": {
    "collapsed": true
   },
   "outputs": [],
   "source": [
    "# Design a query to find the most active stations.\n",
    "rs = session \\\n",
    "    .query(Measurement.station, func.count(Measurement.station)) \\\n",
    "    .filter(and_(Measurement.date > min_date_str, Measurement.date <= max_date_str )) \\\n",
    "    .group_by(Measurement.station) \\\n",
    "    .order_by(func.count(Measurement.station).desc()) \\\n",
    "    .all()"
   ]
  },
  {
   "cell_type": "code",
   "execution_count": 23,
   "metadata": {
    "collapsed": true
   },
   "outputs": [],
   "source": [
    "# Convert the result set to a list for processing.\n",
    "rs_list = list(rs)"
   ]
  },
  {
   "cell_type": "code",
   "execution_count": 24,
   "metadata": {},
   "outputs": [
    {
     "name": "stdout",
     "output_type": "stream",
     "text": [
      "('USC00519397', 330)\n",
      "('USC00519281', 321)\n",
      "('USC00513117', 312)\n",
      "('USC00516128', 299)\n",
      "('USC00519523', 285)\n",
      "('USC00514830', 245)\n",
      "('USC00517948', 54)\n"
     ]
    }
   ],
   "source": [
    "# List of stations in descending order.\n",
    "for rs_entry in rs_list:\n",
    "    print(rs_entry)"
   ]
  },
  {
   "cell_type": "code",
   "execution_count": 25,
   "metadata": {
    "collapsed": true
   },
   "outputs": [],
   "source": [
    "# Select the most active station.\n",
    "rs = session \\\n",
    "    .query(Measurement.station, func.count(Measurement.station)) \\\n",
    "    .filter(and_(Measurement.date > min_date_str, Measurement.date <= max_date_str )) \\\n",
    "    .group_by(Measurement.station) \\\n",
    "    .order_by(func.count(Measurement.station).desc()) \\\n",
    "    .limit(1)"
   ]
  },
  {
   "cell_type": "code",
   "execution_count": 26,
   "metadata": {
    "collapsed": true
   },
   "outputs": [],
   "source": [
    "# Convert the result set to a list for processing.\n",
    "rs_list = list(rs)"
   ]
  },
  {
   "cell_type": "code",
   "execution_count": 27,
   "metadata": {},
   "outputs": [
    {
     "name": "stdout",
     "output_type": "stream",
     "text": [
      "USC00519397\n"
     ]
    }
   ],
   "source": [
    "# Display the the most active station.\n",
    "station_with_most_tobs = rs_list[0][0]\n",
    "print(station_with_most_tobs)"
   ]
  },
  {
   "cell_type": "code",
   "execution_count": 28,
   "metadata": {
    "collapsed": true
   },
   "outputs": [],
   "source": [
    "# Query temperature observations for the last 12 months for the station with the highest number of observations.\n",
    "rs = session \\\n",
    "    .query(Measurement.tobs) \\\n",
    "    .filter(and_(Measurement.date > min_date_str, \\\n",
    "                 Measurement.date <= max_date_str, \\\n",
    "                 Measurement.station == station_with_most_tobs )) \\\n",
    "    .all()"
   ]
  },
  {
   "cell_type": "code",
   "execution_count": 29,
   "metadata": {
    "collapsed": true
   },
   "outputs": [],
   "source": [
    "# Convert the result set to a list for processing.\n",
    "rs_list = list(rs)"
   ]
  },
  {
   "cell_type": "code",
   "execution_count": 30,
   "metadata": {
    "collapsed": true
   },
   "outputs": [],
   "source": [
    "# Convert list of tuples to a list of temperatures.\n",
    "tobs_list = []\n",
    "for rs_entry in rs_list:\n",
    "    tobs_list.append(rs_entry[0])  "
   ]
  },
  {
   "cell_type": "code",
   "execution_count": 31,
   "metadata": {},
   "outputs": [
    {
     "data": {
      "image/png": "[encoded data removed]",
      "text/plain": [
       "<matplotlib.figure.Figure at 0x292373837f0>"
      ]
     },
     "metadata": {},
     "output_type": "display_data"
    }
   ],
   "source": [
    "# Plot number observations per temperature.\n",
    "plt.figure(figsize=(20,12))\n",
    "plt.title('Observations per Temperature for Station {}'.format(station_with_most_tobs), fontsize=18)\n",
    "plt.ylabel('Observations', fontsize=18)\n",
    "plt.xlabel('Temperature', fontsize=18)\n",
    "plt.yticks(np.arange(0,100,10), fontsize=18)\n",
    "plt.xticks(fontsize=18)\n",
    "plt.grid(True)\n",
    "n, bins, patches = plt.hist(tobs_list, 13, density=False)\n",
    "plt.show()"
   ]
  },
  {
   "cell_type": "markdown",
   "metadata": {},
   "source": [
    "### Temperature Analysis\n",
    "\n",
    "For a given timeperiod, plot an analysis of the temperatures from the station with the most observations.\n",
    "\n"
   ]
  },
  {
   "cell_type": "code",
   "execution_count": 32,
   "metadata": {
    "collapsed": true
   },
   "outputs": [],
   "source": [
    "# Write a function called calc_temps that will accept a start date and end date in the format %Y-%m-%d \n",
    "# and return the minimum, average, and maximum temperatures for that range of dates.\n",
    "def calc_temps(min_date_str, max_date_str):\n",
    "    max_date = datetime.strptime(max_date_str, '%Y-%m-%d')\n",
    "    min_date = datetime.strptime(min_date_str, '%Y-%m-%d')\n",
    "    min_temp = 0\n",
    "    avg_temp = 0\n",
    "    max_temp = 0\n",
    "    \n",
    "    \n",
    "    rs = session \\\n",
    "    .query(func.min(Measurement.tobs), func.avg(Measurement.tobs), func.max(Measurement.tobs)) \\\n",
    "    .filter(and_(Measurement.date > min_date_str, Measurement.date <= max_date_str )) \\\n",
    "    .all()\n",
    "    \n",
    "    min_temp = rs[0][0]\n",
    "    avg_temp = rs[0][1]\n",
    "    max_temp = rs[0][2]\n",
    "    \n",
    "    return min_temp, avg_temp, max_temp"
   ]
  },
  {
   "cell_type": "code",
   "execution_count": 33,
   "metadata": {},
   "outputs": [
    {
     "name": "stdout",
     "output_type": "stream",
     "text": [
      "Min: 60.0 Avg: 67.90384615384616 Max: 77.0\n"
     ]
    }
   ],
   "source": [
    "# Minimum, average, and maximum temperatures for the planned trip.\n",
    "min_t, avg_t, max_t = calc_temps('2017-01-01', '2017-01-10')\n",
    "print(\"Min:\", str(min_t), \"Avg:\", str(avg_t), \"Max:\", str(max_t))"
   ]
  },
  {
   "cell_type": "code",
   "execution_count": 34,
   "metadata": {},
   "outputs": [
    {
     "name": "stdout",
     "output_type": "stream",
     "text": [
      "Min: 62.0 Avg: 70.3529411764706 Max: 78.0\n"
     ]
    }
   ],
   "source": [
    "# Minimum, average, and maximum tempteratures for the previous year.\n",
    "vacation_start = '2016-01-01'\n",
    "vacation_end = '2016-01-10'\n",
    "min_t, avg_t, max_t = calc_temps(vacation_start, vacation_end)\n",
    "print(\"Min:\", str(min_t), \"Avg:\", str(avg_t), \"Max:\", str(max_t))"
   ]
  },
  {
   "cell_type": "code",
   "execution_count": 35,
   "metadata": {},
   "outputs": [
    {
     "data": {
      "image/png": "[encoded data removed]",
      "text/plain": [
       "<matplotlib.figure.Figure at 0x29235b11550>"
      ]
     },
     "metadata": {},
     "output_type": "display_data"
    }
   ],
   "source": [
    "data =[max_t - min_t, avg_t, max_t, min_t]\n",
    "plt.figure(figsize=(20,12))\n",
    "plt.title('Observed Temperatures for Period From {} to {}'.format(vacation_start, vacation_end), fontsize=18)\n",
    "plt.ylabel('Temperature', fontsize=18)\n",
    "plt.xlabel('Period', fontsize=18)\n",
    "plt.yticks(fontsize=18)\n",
    "plt.xticks(fontsize=18)\n",
    "\n",
    "plt.boxplot(data)\n",
    "plt.show()"
   ]
  }
 ],
 "metadata": {
  "celltoolbar": "Create Assignment",
  "kernelspec": {
   "display_name": "Python 3",
   "language": "python",
   "name": "python3"
  },
  "language_info": {
   "codemirror_mode": {
    "name": "ipython",
    "version": 3
   },
   "file_extension": ".py",
   "mimetype": "text/x-python",
   "name": "python",
   "nbconvert_exporter": "python",
   "pygments_lexer": "ipython3",
   "version": "3.6.3"
  },
  "varInspector": {
   "cols": {
    "lenName": 16,
    "lenType": 16,
    "lenVar": 40
   },
   "kernels_config": {
    "python": {
     "delete_cmd_postfix": "",
     "delete_cmd_prefix": "del ",
     "library": "var_list.py",
     "varRefreshCmd": "print(var_dic_list())"
    },
    "r": {
     "delete_cmd_postfix": ") ",
     "delete_cmd_prefix": "rm(",
     "library": "var_list.r",
     "varRefreshCmd": "cat(var_dic_list()) "
    }
   },
   "types_to_exclude": [
    "module",
    "function",
    "builtin_function_or_method",
    "instance",
    "_Feature"
   ],
   "window_display": false
  }
 },
 "nbformat": 4,
 "nbformat_minor": 2
}
